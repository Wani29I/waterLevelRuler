{
 "cells": [
  {
   "cell_type": "code",
   "execution_count": 79,
   "metadata": {},
   "outputs": [],
   "source": [
    "import cv2\n",
    "import numpy as np\n",
    "from pyzbar.pyzbar import decode\n",
    "import os\n",
    "import zxingcpp\n",
    "\n",
    "qcd = cv2.QRCodeDetector()\n",
    "# Create a QRCodeDetector object\n",
    "qr_detector = cv2.QRCodeDetector()"
   ]
  },
  {
   "cell_type": "code",
   "execution_count": 83,
   "metadata": {},
   "outputs": [],
   "source": [
    "# Get a list of all files in the folder\n",
    "folder_path = \"mainImageFile/\"\n",
    "image_files = [f for f in os.listdir(folder_path) if os.path.isfile(os.path.join(folder_path, f))]"
   ]
  },
  {
   "cell_type": "code",
   "execution_count": 89,
   "metadata": {},
   "outputs": [
    {
     "name": "stdout",
     "output_type": "stream",
     "text": [
      "Minimum number from all QR codes: 2\n",
      "Pyzbar: [17, 11, 5, 3, 2, 6]\n",
      "Zxing [17, 25, 11, 5, 7, 3, 2, 4, 6, 13, 29]\n"
     ]
    }
   ],
   "source": [
    "# Initialize the minimum number\n",
    "min_number = 99\n",
    "list_Number_Zxing = []\n",
    "list_Number_Pyzbar = []\n",
    "\n",
    "# Loop over each file\n",
    "for image_file in image_files:\n",
    "    # Load the image\n",
    "    image = cv2.imread(folder_path+'/'+image_file)\n",
    "\n",
    "    # Convert the image to grayscale\n",
    "    gray = cv2.cvtColor(image, cv2.COLOR_BGR2GRAY)\n",
    "\n",
    "    # Threshold the image\n",
    "    ret, threshold = cv2.threshold(gray, 0, 255, cv2.THRESH_BINARY + cv2.THRESH_OTSU)\n",
    "\n",
    "    decoded_data = decode(threshold)\n",
    "    if decoded_data:\n",
    "        # Loop over each QR code in the image\n",
    "        for qrCode in decoded_data:\n",
    "            # Get the number from the QR code\n",
    "            number = int(qrCode.data)\n",
    "            list_Number_Pyzbar.append(number)\n",
    "\n",
    "            # Update the minimum number if necessary\n",
    "            if number < min_number:\n",
    "                min_number = number\n",
    "                \n",
    "    results = zxingcpp.read_barcodes(threshold)\n",
    "    for result in results:\n",
    "        number = int(result.text)\n",
    "        list_Number_Zxing.append(number)\n",
    "        if number < min_number:\n",
    "                min_number = number\n",
    "\n",
    "if( min_number == 99 ):\n",
    "    print(\"Photos couldn't be read\")\n",
    "else:\n",
    "    print(\"Minimum number from all QR codes:\", min_number)\n",
    "    print('Pyzbar:',list_Number_Pyzbar)\n",
    "    print('Zxing',list_Number_Zxing)"
   ]
  },
  {
   "cell_type": "code",
   "execution_count": 65,
   "metadata": {},
   "outputs": [],
   "source": [
    "# Threshold the image\n",
    "ret, threshold = cv2.threshold(gray, 0, 255, cv2.THRESH_BINARY + cv2.THRESH_OTSU)\n",
    "\n",
    "cv2.imwrite(\"contour/threshold.jpg\", gray)\n",
    "\n",
    "# Find the contours of the QR codes\n",
    "contours, hierarchy = cv2.findContours(threshold, cv2.RETR_LIST, cv2.CHAIN_APPROX_SIMPLE)\n",
    "len(contours)\n",
    "\n",
    "decoded_data = decode(threshold)\n",
    "if decoded_data:\n",
    "    # cv2.imwrite(\"contour/contour_\" + str(qrCount) + \".jpg\", qr_code_image)\n",
    "    # print(retval,decoded_info)\n",
    "    for qrCode in decoded_data:\n",
    "        print(qrCode.data)\n"
   ]
  },
  {
   "cell_type": "code",
   "execution_count": 66,
   "metadata": {},
   "outputs": [
    {
     "name": "stdout",
     "output_type": "stream",
     "text": [
      "171\n"
     ]
    }
   ],
   "source": [
    "qrCount = 0\n",
    "\n",
    "for cnt in contours:\n",
    "    # Check if the contour is convex\n",
    "    if cv2.isContourConvex(cnt):\n",
    "        \n",
    "        # Get the bounding rectangle of the QR code\n",
    "        x, y, w, h = cv2.boundingRect(cnt)\n",
    "        # print(w,h)\n",
    "        \n",
    "        # Extract the QR code from the image\n",
    "        qr_code_image = threshold[y:y+h, x:x+w]\n",
    "        \n",
    "        # qr_code_image = sharpen_image(qr_code_image)\n",
    "        \n",
    "        # Use a QR code library to decode the QR code and get the encoded information\n",
    "        # retval, decoded_info, points, straight_qrcode = qcd.detectAndDecodeMulti(qr_code_image)\n",
    "        # print(qr_code_image)\n",
    "        # cv2.imwrite(\"contour/contour_\" + str(qrCount) + \".jpg\", qr_code_image)\n",
    "        qrCount += 1\n",
    "        \n",
    "        if( w >= 20 and h >= 20 ):\n",
    "            decoded_data = decode(qr_code_image)\n",
    "            cv2.imwrite(\"contour/contour_\" + str(qrCount) + \".jpg\", qr_code_image)\n",
    "        \n",
    "            if decoded_data:\n",
    "                # cv2.imwrite(\"contour/contour_\" + str(qrCount) + \".jpg\", qr_code_image)\n",
    "                print(1)\n",
    "                # print(retval,decoded_info)\n",
    "                for qrCode in decoded_data:\n",
    "                    print(qrCode.data)\n",
    "            \n",
    "            \n",
    "print(qrCount)\n",
    "\n",
    "        "
   ]
  },
  {
   "cell_type": "code",
   "execution_count": null,
   "metadata": {},
   "outputs": [],
   "source": [
    "img = cv2.imread('contour/2.jpg')\n",
    "\n",
    "# img = sharpen_image(img)\n",
    "# cv2.imwrite(\"contour/contour_\" + str(qrCount) + \".jpg\", qr_code_image)\n",
    "\n",
    "qcd = cv2.QRCodeDetector()\n",
    "retval, decoded_info, points, straight_qrcode = qcd.detectAndDecodeMulti(img)\n",
    "\n",
    "retval\n",
    "decoded_info\n"
   ]
  },
  {
   "cell_type": "code",
   "execution_count": null,
   "metadata": {},
   "outputs": [],
   "source": [
    "from pyzbar.pyzbar import decode\n",
    "from PIL import Image\n",
    "\n",
    "# Read the QR code from an image file\n",
    "decoded_data = decode(img)\n",
    "\n",
    "decoded_data\n",
    "# Print the decoded QR code data\n",
    "# print(decoded_data[0].data.decode(\"utf-8\"))"
   ]
  },
  {
   "cell_type": "code",
   "execution_count": null,
   "metadata": {},
   "outputs": [],
   "source": [
    "def crop_box(image, kp):\n",
    "    # Get the coordinates of the keypoints\n",
    "    coords = np.array([kp[i].pt for i in range(len(kp))])\n",
    "\n",
    "    # Get the bounding rectangle of the keypoints\n",
    "    x, y, w, h = cv2.boundingRect(coords)\n",
    "\n",
    "    # Crop the image using the bounding rectangle coordinates\n",
    "    crop_img = image[y:y+h, x:x+w]\n",
    "\n",
    "    return crop_img"
   ]
  },
  {
   "cell_type": "code",
   "execution_count": null,
   "metadata": {},
   "outputs": [],
   "source": [
    "def detect_boxes(image):\n",
    "    gray = cv2.cvtColor(image, cv2.COLOR_BGR2GRAY)\n",
    "    sift = cv2.xfeatures2d.SIFT_create()\n",
    "    kp, des = sift.detectAndCompute(gray, None)\n",
    "    img = cv2.drawKeypoints(gray, kp, None)\n",
    "    # cv2.imshow(\"Keypoints\", img)\n",
    "    # cv2.waitKey(0)\n",
    "    # cv2.destroyAllWindows()\n",
    "    print(len(kp))\n",
    "    boxes = crop_box(img,kp)\n",
    "    \n",
    "detect_boxes(cv2.imread(\"TestImg/zz.png\"))"
   ]
  }
 ],
 "metadata": {
  "kernelspec": {
   "display_name": "Python 3",
   "language": "python",
   "name": "python3"
  },
  "language_info": {
   "codemirror_mode": {
    "name": "ipython",
    "version": 3
   },
   "file_extension": ".py",
   "mimetype": "text/x-python",
   "name": "python",
   "nbconvert_exporter": "python",
   "pygments_lexer": "ipython3",
   "version": "3.9.6"
  },
  "orig_nbformat": 4,
  "vscode": {
   "interpreter": {
    "hash": "81794d4967e6c3204c66dcd87b604927b115b27c00565d3d43f05ba2f3a2cb0d"
   }
  }
 },
 "nbformat": 4,
 "nbformat_minor": 2
}
