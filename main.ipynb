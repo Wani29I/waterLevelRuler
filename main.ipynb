{
 "cells": [
  {
   "cell_type": "code",
   "execution_count": 115,
   "metadata": {},
   "outputs": [],
   "source": [
    "# import libraries\n",
    "import cv2\n",
    "import numpy as np\n",
    "from pyzbar.pyzbar import decode\n",
    "import os\n",
    "import zxingcpp"
   ]
  },
  {
   "cell_type": "code",
   "execution_count": 116,
   "metadata": {},
   "outputs": [],
   "source": [
    "# Create a QRCodeDetector object for OpenCV\n",
    "qr_detector_opencv = cv2.QRCodeDetector()\n",
    "\n",
    "# Get a list of all image files in the folder\n",
    "folder_path = \"mainImageFile/\"\n",
    "image_files = [f for f in os.listdir(folder_path) if os.path.isfile(os.path.join(folder_path, f))]\n",
    "\n",
    "# Define the known lowest QR code position in pixels\n",
    "lowest_qr_pos = 100\n",
    "\n",
    "# Define the pixel to millimeter ratio\n",
    "pixel_to_mm_ratio = 5\n",
    "\n",
    "# Initialize the minimum number\n",
    "min_number = 9999\n",
    "\n",
    "# Initialize the minimum distance to water\n",
    "min_dist_to_water = 9999\n",
    "\n",
    "# Initialize lists to store numbers read from Pyzbar and Zxing\n",
    "list_Number_Pyzbar = []\n",
    "list_Number_Zxing = []\n"
   ]
  },
  {
   "cell_type": "code",
   "execution_count": 117,
   "metadata": {},
   "outputs": [],
   "source": [
    "# Loop over each file\n",
    "for image_file in image_files:\n",
    "    # Load the image\n",
    "    image = cv2.imread(os.path.join(folder_path, image_file))\n",
    "\n",
    "    # Convert the image to grayscale\n",
    "    gray = cv2.cvtColor(image, cv2.COLOR_BGR2GRAY)\n",
    "\n",
    "    # Threshold the image using Otsu's method\n",
    "    ret, threshold = cv2.threshold(gray, 0, 255, cv2.THRESH_BINARY + cv2.THRESH_OTSU)\n",
    "    \n",
    "    # Check the distance between the lowest QR code and the water\n",
    "    water_pos = np.where(threshold[lowest_qr_pos:] == 0)[0]\n",
    "    if len(water_pos) > 0:\n",
    "        dist_to_water = water_pos[0] / pixel_to_mm_ratio\n",
    "        if dist_to_water < min_dist_to_water:\n",
    "            min_dist_to_water = dist_to_water\n",
    "\n",
    "    # Use Pyzbar to decode QR codes in the image\n",
    "    decoded_data_pyzbar = decode(threshold)\n",
    "    if decoded_data_pyzbar:\n",
    "        # Loop over each QR code in the image\n",
    "        for qrCode in decoded_data_pyzbar:\n",
    "            # Get the number from the QR code\n",
    "            number = int(qrCode.data)\n",
    "            list_Number_Pyzbar.append(number)\n",
    "\n",
    "            # Update the minimum number if necessary\n",
    "            if number < min_number:\n",
    "                min_number = number\n",
    "\n",
    "    # Use Zxing to decode QR codes in the image\n",
    "    results_zxing = zxingcpp.read_barcodes(threshold)\n",
    "    for result in results_zxing:\n",
    "        number = int(result.text)\n",
    "        list_Number_Zxing.append(number)\n",
    "        if number < min_number:\n",
    "            min_number = number"
   ]
  },
  {
   "cell_type": "code",
   "execution_count": 119,
   "metadata": {},
   "outputs": [
    {
     "name": "stdout",
     "output_type": "stream",
     "text": [
      "Minimum number from all QR codes: 2\n",
      "Pyzbar: [17, 11, 5, 3, 2, 6]\n",
      "Zxing: [17, 25, 11, 5, 7, 3, 2, 4, 6, 13, 29]\n",
      "Minimum distance to water: 0.0 mm\n",
      "Water Level:  2 cm 0.0 mm\n"
     ]
    }
   ],
   "source": [
    "# Check if any QR code was successfully read\n",
    "if min_number == 9999:\n",
    "    print(\"Could not read any QR codes from the photos.\")\n",
    "else:\n",
    "    # Print the minimum number from all QR codes\n",
    "    print(\"Minimum number from all QR codes:\", min_number)\n",
    "    # Print the numbers read from Pyzbar\n",
    "    print('Pyzbar:', list_Number_Pyzbar)\n",
    "    # Print the numbers read from Zxing\n",
    "    print('Zxing:', list_Number_Zxing)\n",
    "    # Print the Minimum distance to water\n",
    "    print(\"Minimum distance to water:\", min_dist_to_water, \"mm\")\n",
    "    # Print result\n",
    "    print(\"Water Level: \", min_number, \"cm\", min_dist_to_water, \"mm\")"
   ]
  }
 ],
 "metadata": {
  "language_info": {
   "name": "python"
  },
  "orig_nbformat": 4
 },
 "nbformat": 4,
 "nbformat_minor": 2
}
