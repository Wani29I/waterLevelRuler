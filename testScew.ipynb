{
 "cells": [
  {
   "cell_type": "code",
   "execution_count": 1,
   "metadata": {},
   "outputs": [],
   "source": [
    "import cv2\n",
    "import numpy as np\n",
    "from pyzbar.pyzbar import decode"
   ]
  },
  {
   "cell_type": "code",
   "execution_count": 15,
   "metadata": {},
   "outputs": [],
   "source": [
    "def correct_skew(image):\n",
    "    # Convert image to grayscale\n",
    "    gray = cv2.cvtColor(image, cv2.COLOR_BGR2GRAY)\n",
    "\n",
    "    # Apply Gaussian blur to reduce noise\n",
    "    blur = cv2.GaussianBlur(gray, (5, 5), 0)\n",
    "\n",
    "    # Detect edges in the image using Canny edge detection\n",
    "    edges = cv2.Canny(blur, 50, 150)\n",
    "\n",
    "    # Find lines in the image using HoughLines\n",
    "    lines = cv2.HoughLines(edges, 1, np.pi / 180, 150)\n",
    "\n",
    "    # Initialize variables to store the slope and angle\n",
    "    slope = 0\n",
    "    angle = 0\n",
    "\n",
    "    # Iterate over the detected lines\n",
    "    for line in lines:\n",
    "        rho, theta = line[0]\n",
    "        if theta != 0:\n",
    "            slope = -1 * np.cos(theta) / np.sin(theta)\n",
    "            angle = np.arctan(slope) * 180 / np.pi\n",
    "\n",
    "    # Calculate the affine transformation matrix\n",
    "    M = cv2.getRotationMatrix2D((image.shape[1]/2,image.shape[0]/2), angle, 1)\n",
    "\n",
    "    # Correct skew\n",
    "    corrected_image = cv2.warpAffine(image, M, (image.shape[1], image.shape[0]), flags=cv2.INTER_LINEAR)\n",
    "\n",
    "    return corrected_image"
   ]
  },
  {
   "cell_type": "code",
   "execution_count": 24,
   "metadata": {},
   "outputs": [
    {
     "ename": "error",
     "evalue": "OpenCV(4.6.0) D:\\a\\opencv-python\\opencv-python\\opencv\\modules\\imgproc\\src\\color.cpp:182: error: (-215:Assertion failed) !_src.empty() in function 'cv::cvtColor'\n",
     "output_type": "error",
     "traceback": [
      "\u001b[1;31m---------------------------------------------------------------------------\u001b[0m",
      "\u001b[1;31merror\u001b[0m                                     Traceback (most recent call last)",
      "Cell \u001b[1;32mIn [24], line 2\u001b[0m\n\u001b[0;32m      1\u001b[0m image \u001b[39m=\u001b[39m cv2\u001b[39m.\u001b[39mimread(\u001b[39m\"\u001b[39m\u001b[39mTestImg/test_r_j_1.png\u001b[39m\u001b[39m\"\u001b[39m)\n\u001b[1;32m----> 2\u001b[0m image \u001b[39m=\u001b[39m correct_skew(image)\n\u001b[0;32m      4\u001b[0m cv2\u001b[39m.\u001b[39mimwrite(\u001b[39m\"\u001b[39m\u001b[39mcontour/segmented.jpg\u001b[39m\u001b[39m\"\u001b[39m, image)\n",
      "Cell \u001b[1;32mIn [15], line 3\u001b[0m, in \u001b[0;36mcorrect_skew\u001b[1;34m(image)\u001b[0m\n\u001b[0;32m      1\u001b[0m \u001b[39mdef\u001b[39;00m \u001b[39mcorrect_skew\u001b[39m(image):\n\u001b[0;32m      2\u001b[0m     \u001b[39m# Convert image to grayscale\u001b[39;00m\n\u001b[1;32m----> 3\u001b[0m     gray \u001b[39m=\u001b[39m cv2\u001b[39m.\u001b[39;49mcvtColor(image, cv2\u001b[39m.\u001b[39;49mCOLOR_BGR2GRAY)\n\u001b[0;32m      5\u001b[0m     \u001b[39m# Apply Gaussian blur to reduce noise\u001b[39;00m\n\u001b[0;32m      6\u001b[0m     blur \u001b[39m=\u001b[39m cv2\u001b[39m.\u001b[39mGaussianBlur(gray, (\u001b[39m5\u001b[39m, \u001b[39m5\u001b[39m), \u001b[39m0\u001b[39m)\n",
      "\u001b[1;31merror\u001b[0m: OpenCV(4.6.0) D:\\a\\opencv-python\\opencv-python\\opencv\\modules\\imgproc\\src\\color.cpp:182: error: (-215:Assertion failed) !_src.empty() in function 'cv::cvtColor'\n"
     ]
    }
   ],
   "source": [
    "image = cv2.imread(\"TestImg/test_r_j_1.png\")\n",
    "image = correct_skew(image)\n",
    "\n",
    "cv2.imwrite(\"contour/segmented.jpg\", image)"
   ]
  }
 ],
 "metadata": {
  "kernelspec": {
   "display_name": "Python 3",
   "language": "python",
   "name": "python3"
  },
  "language_info": {
   "codemirror_mode": {
    "name": "ipython",
    "version": 3
   },
   "file_extension": ".py",
   "mimetype": "text/x-python",
   "name": "python",
   "nbconvert_exporter": "python",
   "pygments_lexer": "ipython3",
   "version": "3.9.6"
  },
  "orig_nbformat": 4,
  "vscode": {
   "interpreter": {
    "hash": "81794d4967e6c3204c66dcd87b604927b115b27c00565d3d43f05ba2f3a2cb0d"
   }
  }
 },
 "nbformat": 4,
 "nbformat_minor": 2
}
