{
 "cells": [
  {
   "cell_type": "code",
   "execution_count": 6,
   "metadata": {},
   "outputs": [
    {
     "data": {
      "text/plain": [
       "True"
      ]
     },
     "execution_count": 6,
     "metadata": {},
     "output_type": "execute_result"
    }
   ],
   "source": [
    "import cv2\n",
    "\n",
    "# Load the image\n",
    "img = cv2.imread('TestImg/testImg_1-1.png')\n",
    "\n",
    "# Resize the image to 28x28 pixels\n",
    "img = cv2.resize(img, (28, 28), interpolation = cv2.INTER_LINEAR)\n",
    "\n",
    "cv2.imwrite('TestImg/testImg_1-1_28.png', img)"
   ]
  },
  {
   "cell_type": "code",
   "execution_count": 7,
   "metadata": {},
   "outputs": [
    {
     "name": "stdout",
     "output_type": "stream",
     "text": [
      "313/313 [==============================] - 0s 994us/step - loss: 0.1143 - accuracy: 0.9747\n",
      "1/1 [==============================] - 0s 47ms/step\n",
      "the number is 9\n"
     ]
    }
   ],
   "source": [
    "from number_recognition.main import NumberRecognizer\n",
    "import cv2\n",
    "\n",
    "n = NumberRecognizer()\n",
    "\n",
    "# n.init() # create a model\n",
    "n.load() # load the model\n",
    "\n",
    "num = n.recognize('TestImg/testImg_1-1_28.png') # recognise the image\n",
    "print(f\"the number is {num}\")"
   ]
  }
 ],
 "metadata": {
  "kernelspec": {
   "display_name": "Python 3",
   "language": "python",
   "name": "python3"
  },
  "language_info": {
   "codemirror_mode": {
    "name": "ipython",
    "version": 3
   },
   "file_extension": ".py",
   "mimetype": "text/x-python",
   "name": "python",
   "nbconvert_exporter": "python",
   "pygments_lexer": "ipython3",
   "version": "3.9.6"
  },
  "orig_nbformat": 4,
  "vscode": {
   "interpreter": {
    "hash": "81794d4967e6c3204c66dcd87b604927b115b27c00565d3d43f05ba2f3a2cb0d"
   }
  }
 },
 "nbformat": 4,
 "nbformat_minor": 2
}
